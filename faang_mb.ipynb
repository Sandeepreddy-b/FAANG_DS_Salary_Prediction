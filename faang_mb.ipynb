{
 "cells": [
  {
   "cell_type": "code",
   "execution_count": 16,
   "metadata": {
    "executionInfo": {
     "elapsed": 205,
     "status": "ok",
     "timestamp": 1639511743905,
     "user": {
      "displayName": "Sandeep reddy",
      "photoUrl": "https://lh3.googleusercontent.com/a/default-user=s64",
      "userId": "16285756479097002944"
     },
     "user_tz": 300
    },
    "id": "UycPU8H_ahKy"
   },
   "outputs": [],
   "source": [
    "import pandas as pd \n",
    "import matplotlib.pyplot as plt \n",
    "import numpy as np \n",
    "\n",
    "from sklearn.model_selection import train_test_split\n",
    "import statsmodels.api as sm\n",
    "from sklearn.linear_model import LinearRegression, Lasso\n",
    "from sklearn.model_selection import cross_val_score\n",
    "from sklearn.ensemble import RandomForestRegressor\n",
    "from sklearn.model_selection import GridSearchCV\n",
    "from sklearn.metrics import mean_absolute_error\n",
    "\n",
    "import warnings\n",
    "warnings.filterwarnings(\"ignore\")\n",
    "warnings.warn(\"second example of warning!\")"
   ]
  },
  {
   "cell_type": "code",
   "execution_count": 17,
   "metadata": {
    "executionInfo": {
     "elapsed": 141,
     "status": "ok",
     "timestamp": 1639510182345,
     "user": {
      "displayName": "Sandeep reddy",
      "photoUrl": "https://lh3.googleusercontent.com/a/default-user=s64",
      "userId": "16285756479097002944"
     },
     "user_tz": 300
    },
    "id": "Ij0w5Zx6a6Be"
   },
   "outputs": [],
   "source": [
    "df = pd.read_csv(\"/Users/sandeepreddy/Desktop/My_Final_Pro/faang_ds_data.csv\")"
   ]
  },
  {
   "cell_type": "code",
   "execution_count": 18,
   "metadata": {
    "colab": {
     "base_uri": "https://localhost:8080/",
     "height": 424
    },
    "executionInfo": {
     "elapsed": 169,
     "status": "ok",
     "timestamp": 1639510184022,
     "user": {
      "displayName": "Sandeep reddy",
      "photoUrl": "https://lh3.googleusercontent.com/a/default-user=s64",
      "userId": "16285756479097002944"
     },
     "user_tz": 300
    },
    "id": "dtpwvex0a_Q_",
    "outputId": "fdedf47a-e3d8-46f3-e51f-42e2aa1cc7e1"
   },
   "outputs": [
    {
     "data": {
      "text/html": [
       "<div>\n",
       "<style scoped>\n",
       "    .dataframe tbody tr th:only-of-type {\n",
       "        vertical-align: middle;\n",
       "    }\n",
       "\n",
       "    .dataframe tbody tr th {\n",
       "        vertical-align: top;\n",
       "    }\n",
       "\n",
       "    .dataframe thead th {\n",
       "        text-align: right;\n",
       "    }\n",
       "</style>\n",
       "<table border=\"1\" class=\"dataframe\">\n",
       "  <thead>\n",
       "    <tr style=\"text-align: right;\">\n",
       "      <th></th>\n",
       "      <th>company</th>\n",
       "      <th>totalyearlycompensation</th>\n",
       "      <th>location</th>\n",
       "      <th>yearsofexperience</th>\n",
       "      <th>year</th>\n",
       "    </tr>\n",
       "  </thead>\n",
       "  <tbody>\n",
       "    <tr>\n",
       "      <th>0</th>\n",
       "      <td>Facebook</td>\n",
       "      <td>370000</td>\n",
       "      <td>Seattle, WA</td>\n",
       "      <td>8.0</td>\n",
       "      <td>2018</td>\n",
       "    </tr>\n",
       "    <tr>\n",
       "      <th>1</th>\n",
       "      <td>Amazon</td>\n",
       "      <td>200000</td>\n",
       "      <td>Seattle, WA</td>\n",
       "      <td>3.0</td>\n",
       "      <td>2018</td>\n",
       "    </tr>\n",
       "    <tr>\n",
       "      <th>2</th>\n",
       "      <td>Google</td>\n",
       "      <td>690000</td>\n",
       "      <td>Kirkland, WA</td>\n",
       "      <td>10.0</td>\n",
       "      <td>2018</td>\n",
       "    </tr>\n",
       "    <tr>\n",
       "      <th>3</th>\n",
       "      <td>Netflix</td>\n",
       "      <td>600000</td>\n",
       "      <td>Los Gatos, CA</td>\n",
       "      <td>3.0</td>\n",
       "      <td>2018</td>\n",
       "    </tr>\n",
       "    <tr>\n",
       "      <th>4</th>\n",
       "      <td>Facebook</td>\n",
       "      <td>225000</td>\n",
       "      <td>Menlo Park, CA</td>\n",
       "      <td>11.0</td>\n",
       "      <td>2018</td>\n",
       "    </tr>\n",
       "    <tr>\n",
       "      <th>...</th>\n",
       "      <td>...</td>\n",
       "      <td>...</td>\n",
       "      <td>...</td>\n",
       "      <td>...</td>\n",
       "      <td>...</td>\n",
       "    </tr>\n",
       "    <tr>\n",
       "      <th>645</th>\n",
       "      <td>Amazon</td>\n",
       "      <td>185000</td>\n",
       "      <td>Seattle, WA</td>\n",
       "      <td>7.0</td>\n",
       "      <td>2018</td>\n",
       "    </tr>\n",
       "    <tr>\n",
       "      <th>646</th>\n",
       "      <td>Amazon</td>\n",
       "      <td>260000</td>\n",
       "      <td>Palo Alto, CA</td>\n",
       "      <td>10.0</td>\n",
       "      <td>2019</td>\n",
       "    </tr>\n",
       "    <tr>\n",
       "      <th>647</th>\n",
       "      <td>Amazon</td>\n",
       "      <td>740000</td>\n",
       "      <td>Seattle, WA</td>\n",
       "      <td>12.0</td>\n",
       "      <td>2019</td>\n",
       "    </tr>\n",
       "    <tr>\n",
       "      <th>648</th>\n",
       "      <td>Facebook</td>\n",
       "      <td>150000</td>\n",
       "      <td>Singapore, SG, Singapore</td>\n",
       "      <td>0.0</td>\n",
       "      <td>2018</td>\n",
       "    </tr>\n",
       "    <tr>\n",
       "      <th>649</th>\n",
       "      <td>Google</td>\n",
       "      <td>685000</td>\n",
       "      <td>Kirkland, WA</td>\n",
       "      <td>22.0</td>\n",
       "      <td>2018</td>\n",
       "    </tr>\n",
       "  </tbody>\n",
       "</table>\n",
       "<p>650 rows × 5 columns</p>\n",
       "</div>"
      ],
      "text/plain": [
       "      company  totalyearlycompensation                  location  \\\n",
       "0    Facebook                   370000               Seattle, WA   \n",
       "1      Amazon                   200000               Seattle, WA   \n",
       "2      Google                   690000              Kirkland, WA   \n",
       "3     Netflix                   600000             Los Gatos, CA   \n",
       "4    Facebook                   225000            Menlo Park, CA   \n",
       "..        ...                      ...                       ...   \n",
       "645    Amazon                   185000               Seattle, WA   \n",
       "646    Amazon                   260000             Palo Alto, CA   \n",
       "647    Amazon                   740000               Seattle, WA   \n",
       "648  Facebook                   150000  Singapore, SG, Singapore   \n",
       "649    Google                   685000              Kirkland, WA   \n",
       "\n",
       "     yearsofexperience  year  \n",
       "0                  8.0  2018  \n",
       "1                  3.0  2018  \n",
       "2                 10.0  2018  \n",
       "3                  3.0  2018  \n",
       "4                 11.0  2018  \n",
       "..                 ...   ...  \n",
       "645                7.0  2018  \n",
       "646               10.0  2019  \n",
       "647               12.0  2019  \n",
       "648                0.0  2018  \n",
       "649               22.0  2018  \n",
       "\n",
       "[650 rows x 5 columns]"
      ]
     },
     "execution_count": 18,
     "metadata": {},
     "output_type": "execute_result"
    }
   ],
   "source": [
    "df"
   ]
  },
  {
   "cell_type": "code",
   "execution_count": 19,
   "metadata": {
    "executionInfo": {
     "elapsed": 121,
     "status": "ok",
     "timestamp": 1639510221231,
     "user": {
      "displayName": "Sandeep reddy",
      "photoUrl": "https://lh3.googleusercontent.com/a/default-user=s64",
      "userId": "16285756479097002944"
     },
     "user_tz": 300
    },
    "id": "fjCusTmhbA5q"
   },
   "outputs": [],
   "source": [
    "df_dv = pd.get_dummies(df)"
   ]
  },
  {
   "cell_type": "code",
   "execution_count": 20,
   "metadata": {
    "colab": {
     "base_uri": "https://localhost:8080/",
     "height": 478
    },
    "executionInfo": {
     "elapsed": 496,
     "status": "ok",
     "timestamp": 1639510228575,
     "user": {
      "displayName": "Sandeep reddy",
      "photoUrl": "https://lh3.googleusercontent.com/a/default-user=s64",
      "userId": "16285756479097002944"
     },
     "user_tz": 300
    },
    "id": "Vs_WEzaBbKAF",
    "outputId": "000a9c79-71f4-499d-a3eb-b486fee8d85b"
   },
   "outputs": [
    {
     "data": {
      "text/html": [
       "<div>\n",
       "<style scoped>\n",
       "    .dataframe tbody tr th:only-of-type {\n",
       "        vertical-align: middle;\n",
       "    }\n",
       "\n",
       "    .dataframe tbody tr th {\n",
       "        vertical-align: top;\n",
       "    }\n",
       "\n",
       "    .dataframe thead th {\n",
       "        text-align: right;\n",
       "    }\n",
       "</style>\n",
       "<table border=\"1\" class=\"dataframe\">\n",
       "  <thead>\n",
       "    <tr style=\"text-align: right;\">\n",
       "      <th></th>\n",
       "      <th>totalyearlycompensation</th>\n",
       "      <th>yearsofexperience</th>\n",
       "      <th>year</th>\n",
       "      <th>company_AMAZON</th>\n",
       "      <th>company_AMazon</th>\n",
       "      <th>company_AWS</th>\n",
       "      <th>company_Amazon</th>\n",
       "      <th>company_Amazon Web Services</th>\n",
       "      <th>company_Amazon.com</th>\n",
       "      <th>company_Apple</th>\n",
       "      <th>...</th>\n",
       "      <th>location_Shanghai, SH, China</th>\n",
       "      <th>location_Singapore, SG, Singapore</th>\n",
       "      <th>location_Sunnyvale, CA</th>\n",
       "      <th>location_Taipei, TP, Taiwan</th>\n",
       "      <th>location_Tel Aviv, TA, Israel</th>\n",
       "      <th>location_Toronto, ON, Canada</th>\n",
       "      <th>location_Tulsa, OK</th>\n",
       "      <th>location_Vancouver, BC, Canada</th>\n",
       "      <th>location_Washington, DC</th>\n",
       "      <th>location_Zurich, ZH, Switzerland</th>\n",
       "    </tr>\n",
       "  </thead>\n",
       "  <tbody>\n",
       "    <tr>\n",
       "      <th>0</th>\n",
       "      <td>370000</td>\n",
       "      <td>8.0</td>\n",
       "      <td>2018</td>\n",
       "      <td>0</td>\n",
       "      <td>0</td>\n",
       "      <td>0</td>\n",
       "      <td>0</td>\n",
       "      <td>0</td>\n",
       "      <td>0</td>\n",
       "      <td>0</td>\n",
       "      <td>...</td>\n",
       "      <td>0</td>\n",
       "      <td>0</td>\n",
       "      <td>0</td>\n",
       "      <td>0</td>\n",
       "      <td>0</td>\n",
       "      <td>0</td>\n",
       "      <td>0</td>\n",
       "      <td>0</td>\n",
       "      <td>0</td>\n",
       "      <td>0</td>\n",
       "    </tr>\n",
       "    <tr>\n",
       "      <th>1</th>\n",
       "      <td>200000</td>\n",
       "      <td>3.0</td>\n",
       "      <td>2018</td>\n",
       "      <td>0</td>\n",
       "      <td>0</td>\n",
       "      <td>0</td>\n",
       "      <td>1</td>\n",
       "      <td>0</td>\n",
       "      <td>0</td>\n",
       "      <td>0</td>\n",
       "      <td>...</td>\n",
       "      <td>0</td>\n",
       "      <td>0</td>\n",
       "      <td>0</td>\n",
       "      <td>0</td>\n",
       "      <td>0</td>\n",
       "      <td>0</td>\n",
       "      <td>0</td>\n",
       "      <td>0</td>\n",
       "      <td>0</td>\n",
       "      <td>0</td>\n",
       "    </tr>\n",
       "    <tr>\n",
       "      <th>2</th>\n",
       "      <td>690000</td>\n",
       "      <td>10.0</td>\n",
       "      <td>2018</td>\n",
       "      <td>0</td>\n",
       "      <td>0</td>\n",
       "      <td>0</td>\n",
       "      <td>0</td>\n",
       "      <td>0</td>\n",
       "      <td>0</td>\n",
       "      <td>0</td>\n",
       "      <td>...</td>\n",
       "      <td>0</td>\n",
       "      <td>0</td>\n",
       "      <td>0</td>\n",
       "      <td>0</td>\n",
       "      <td>0</td>\n",
       "      <td>0</td>\n",
       "      <td>0</td>\n",
       "      <td>0</td>\n",
       "      <td>0</td>\n",
       "      <td>0</td>\n",
       "    </tr>\n",
       "    <tr>\n",
       "      <th>3</th>\n",
       "      <td>600000</td>\n",
       "      <td>3.0</td>\n",
       "      <td>2018</td>\n",
       "      <td>0</td>\n",
       "      <td>0</td>\n",
       "      <td>0</td>\n",
       "      <td>0</td>\n",
       "      <td>0</td>\n",
       "      <td>0</td>\n",
       "      <td>0</td>\n",
       "      <td>...</td>\n",
       "      <td>0</td>\n",
       "      <td>0</td>\n",
       "      <td>0</td>\n",
       "      <td>0</td>\n",
       "      <td>0</td>\n",
       "      <td>0</td>\n",
       "      <td>0</td>\n",
       "      <td>0</td>\n",
       "      <td>0</td>\n",
       "      <td>0</td>\n",
       "    </tr>\n",
       "    <tr>\n",
       "      <th>4</th>\n",
       "      <td>225000</td>\n",
       "      <td>11.0</td>\n",
       "      <td>2018</td>\n",
       "      <td>0</td>\n",
       "      <td>0</td>\n",
       "      <td>0</td>\n",
       "      <td>0</td>\n",
       "      <td>0</td>\n",
       "      <td>0</td>\n",
       "      <td>0</td>\n",
       "      <td>...</td>\n",
       "      <td>0</td>\n",
       "      <td>0</td>\n",
       "      <td>0</td>\n",
       "      <td>0</td>\n",
       "      <td>0</td>\n",
       "      <td>0</td>\n",
       "      <td>0</td>\n",
       "      <td>0</td>\n",
       "      <td>0</td>\n",
       "      <td>0</td>\n",
       "    </tr>\n",
       "    <tr>\n",
       "      <th>...</th>\n",
       "      <td>...</td>\n",
       "      <td>...</td>\n",
       "      <td>...</td>\n",
       "      <td>...</td>\n",
       "      <td>...</td>\n",
       "      <td>...</td>\n",
       "      <td>...</td>\n",
       "      <td>...</td>\n",
       "      <td>...</td>\n",
       "      <td>...</td>\n",
       "      <td>...</td>\n",
       "      <td>...</td>\n",
       "      <td>...</td>\n",
       "      <td>...</td>\n",
       "      <td>...</td>\n",
       "      <td>...</td>\n",
       "      <td>...</td>\n",
       "      <td>...</td>\n",
       "      <td>...</td>\n",
       "      <td>...</td>\n",
       "      <td>...</td>\n",
       "    </tr>\n",
       "    <tr>\n",
       "      <th>645</th>\n",
       "      <td>185000</td>\n",
       "      <td>7.0</td>\n",
       "      <td>2018</td>\n",
       "      <td>0</td>\n",
       "      <td>0</td>\n",
       "      <td>0</td>\n",
       "      <td>1</td>\n",
       "      <td>0</td>\n",
       "      <td>0</td>\n",
       "      <td>0</td>\n",
       "      <td>...</td>\n",
       "      <td>0</td>\n",
       "      <td>0</td>\n",
       "      <td>0</td>\n",
       "      <td>0</td>\n",
       "      <td>0</td>\n",
       "      <td>0</td>\n",
       "      <td>0</td>\n",
       "      <td>0</td>\n",
       "      <td>0</td>\n",
       "      <td>0</td>\n",
       "    </tr>\n",
       "    <tr>\n",
       "      <th>646</th>\n",
       "      <td>260000</td>\n",
       "      <td>10.0</td>\n",
       "      <td>2019</td>\n",
       "      <td>0</td>\n",
       "      <td>0</td>\n",
       "      <td>0</td>\n",
       "      <td>1</td>\n",
       "      <td>0</td>\n",
       "      <td>0</td>\n",
       "      <td>0</td>\n",
       "      <td>...</td>\n",
       "      <td>0</td>\n",
       "      <td>0</td>\n",
       "      <td>0</td>\n",
       "      <td>0</td>\n",
       "      <td>0</td>\n",
       "      <td>0</td>\n",
       "      <td>0</td>\n",
       "      <td>0</td>\n",
       "      <td>0</td>\n",
       "      <td>0</td>\n",
       "    </tr>\n",
       "    <tr>\n",
       "      <th>647</th>\n",
       "      <td>740000</td>\n",
       "      <td>12.0</td>\n",
       "      <td>2019</td>\n",
       "      <td>0</td>\n",
       "      <td>0</td>\n",
       "      <td>0</td>\n",
       "      <td>1</td>\n",
       "      <td>0</td>\n",
       "      <td>0</td>\n",
       "      <td>0</td>\n",
       "      <td>...</td>\n",
       "      <td>0</td>\n",
       "      <td>0</td>\n",
       "      <td>0</td>\n",
       "      <td>0</td>\n",
       "      <td>0</td>\n",
       "      <td>0</td>\n",
       "      <td>0</td>\n",
       "      <td>0</td>\n",
       "      <td>0</td>\n",
       "      <td>0</td>\n",
       "    </tr>\n",
       "    <tr>\n",
       "      <th>648</th>\n",
       "      <td>150000</td>\n",
       "      <td>0.0</td>\n",
       "      <td>2018</td>\n",
       "      <td>0</td>\n",
       "      <td>0</td>\n",
       "      <td>0</td>\n",
       "      <td>0</td>\n",
       "      <td>0</td>\n",
       "      <td>0</td>\n",
       "      <td>0</td>\n",
       "      <td>...</td>\n",
       "      <td>0</td>\n",
       "      <td>1</td>\n",
       "      <td>0</td>\n",
       "      <td>0</td>\n",
       "      <td>0</td>\n",
       "      <td>0</td>\n",
       "      <td>0</td>\n",
       "      <td>0</td>\n",
       "      <td>0</td>\n",
       "      <td>0</td>\n",
       "    </tr>\n",
       "    <tr>\n",
       "      <th>649</th>\n",
       "      <td>685000</td>\n",
       "      <td>22.0</td>\n",
       "      <td>2018</td>\n",
       "      <td>0</td>\n",
       "      <td>0</td>\n",
       "      <td>0</td>\n",
       "      <td>0</td>\n",
       "      <td>0</td>\n",
       "      <td>0</td>\n",
       "      <td>0</td>\n",
       "      <td>...</td>\n",
       "      <td>0</td>\n",
       "      <td>0</td>\n",
       "      <td>0</td>\n",
       "      <td>0</td>\n",
       "      <td>0</td>\n",
       "      <td>0</td>\n",
       "      <td>0</td>\n",
       "      <td>0</td>\n",
       "      <td>0</td>\n",
       "      <td>0</td>\n",
       "    </tr>\n",
       "  </tbody>\n",
       "</table>\n",
       "<p>650 rows × 66 columns</p>\n",
       "</div>"
      ],
      "text/plain": [
       "     totalyearlycompensation  yearsofexperience  year  company_AMAZON  \\\n",
       "0                     370000                8.0  2018               0   \n",
       "1                     200000                3.0  2018               0   \n",
       "2                     690000               10.0  2018               0   \n",
       "3                     600000                3.0  2018               0   \n",
       "4                     225000               11.0  2018               0   \n",
       "..                       ...                ...   ...             ...   \n",
       "645                   185000                7.0  2018               0   \n",
       "646                   260000               10.0  2019               0   \n",
       "647                   740000               12.0  2019               0   \n",
       "648                   150000                0.0  2018               0   \n",
       "649                   685000               22.0  2018               0   \n",
       "\n",
       "     company_AMazon  company_AWS  company_Amazon  company_Amazon Web Services  \\\n",
       "0                 0            0               0                            0   \n",
       "1                 0            0               1                            0   \n",
       "2                 0            0               0                            0   \n",
       "3                 0            0               0                            0   \n",
       "4                 0            0               0                            0   \n",
       "..              ...          ...             ...                          ...   \n",
       "645               0            0               1                            0   \n",
       "646               0            0               1                            0   \n",
       "647               0            0               1                            0   \n",
       "648               0            0               0                            0   \n",
       "649               0            0               0                            0   \n",
       "\n",
       "     company_Amazon.com  company_Apple  ...  location_Shanghai, SH, China  \\\n",
       "0                     0              0  ...                             0   \n",
       "1                     0              0  ...                             0   \n",
       "2                     0              0  ...                             0   \n",
       "3                     0              0  ...                             0   \n",
       "4                     0              0  ...                             0   \n",
       "..                  ...            ...  ...                           ...   \n",
       "645                   0              0  ...                             0   \n",
       "646                   0              0  ...                             0   \n",
       "647                   0              0  ...                             0   \n",
       "648                   0              0  ...                             0   \n",
       "649                   0              0  ...                             0   \n",
       "\n",
       "     location_Singapore, SG, Singapore  location_Sunnyvale, CA  \\\n",
       "0                                    0                       0   \n",
       "1                                    0                       0   \n",
       "2                                    0                       0   \n",
       "3                                    0                       0   \n",
       "4                                    0                       0   \n",
       "..                                 ...                     ...   \n",
       "645                                  0                       0   \n",
       "646                                  0                       0   \n",
       "647                                  0                       0   \n",
       "648                                  1                       0   \n",
       "649                                  0                       0   \n",
       "\n",
       "     location_Taipei, TP, Taiwan  location_Tel Aviv, TA, Israel  \\\n",
       "0                              0                              0   \n",
       "1                              0                              0   \n",
       "2                              0                              0   \n",
       "3                              0                              0   \n",
       "4                              0                              0   \n",
       "..                           ...                            ...   \n",
       "645                            0                              0   \n",
       "646                            0                              0   \n",
       "647                            0                              0   \n",
       "648                            0                              0   \n",
       "649                            0                              0   \n",
       "\n",
       "     location_Toronto, ON, Canada  location_Tulsa, OK  \\\n",
       "0                               0                   0   \n",
       "1                               0                   0   \n",
       "2                               0                   0   \n",
       "3                               0                   0   \n",
       "4                               0                   0   \n",
       "..                            ...                 ...   \n",
       "645                             0                   0   \n",
       "646                             0                   0   \n",
       "647                             0                   0   \n",
       "648                             0                   0   \n",
       "649                             0                   0   \n",
       "\n",
       "     location_Vancouver, BC, Canada  location_Washington, DC  \\\n",
       "0                                 0                        0   \n",
       "1                                 0                        0   \n",
       "2                                 0                        0   \n",
       "3                                 0                        0   \n",
       "4                                 0                        0   \n",
       "..                              ...                      ...   \n",
       "645                               0                        0   \n",
       "646                               0                        0   \n",
       "647                               0                        0   \n",
       "648                               0                        0   \n",
       "649                               0                        0   \n",
       "\n",
       "     location_Zurich, ZH, Switzerland  \n",
       "0                                   0  \n",
       "1                                   0  \n",
       "2                                   0  \n",
       "3                                   0  \n",
       "4                                   0  \n",
       "..                                ...  \n",
       "645                                 0  \n",
       "646                                 0  \n",
       "647                                 0  \n",
       "648                                 0  \n",
       "649                                 0  \n",
       "\n",
       "[650 rows x 66 columns]"
      ]
     },
     "execution_count": 20,
     "metadata": {},
     "output_type": "execute_result"
    }
   ],
   "source": [
    "df_dv"
   ]
  },
  {
   "cell_type": "code",
   "execution_count": 21,
   "metadata": {
    "executionInfo": {
     "elapsed": 136,
     "status": "ok",
     "timestamp": 1639510288120,
     "user": {
      "displayName": "Sandeep reddy",
      "photoUrl": "https://lh3.googleusercontent.com/a/default-user=s64",
      "userId": "16285756479097002944"
     },
     "user_tz": 300
    },
    "id": "VRN7PH7kbLst"
   },
   "outputs": [],
   "source": [
    "X = df_dv.drop('totalyearlycompensation',axis=1)\n",
    "Y = df_dv.totalyearlycompensation.values"
   ]
  },
  {
   "cell_type": "code",
   "execution_count": 22,
   "metadata": {
    "executionInfo": {
     "elapsed": 128,
     "status": "ok",
     "timestamp": 1639510326255,
     "user": {
      "displayName": "Sandeep reddy",
      "photoUrl": "https://lh3.googleusercontent.com/a/default-user=s64",
      "userId": "16285756479097002944"
     },
     "user_tz": 300
    },
    "id": "uaPrXOFNbaU5"
   },
   "outputs": [],
   "source": [
    "X_train, X_test, y_train, y_test = train_test_split(X, Y, test_size=0.2, random_state=42)"
   ]
  },
  {
   "cell_type": "code",
   "execution_count": 23,
   "metadata": {
    "colab": {
     "base_uri": "https://localhost:8080/",
     "height": 1000
    },
    "executionInfo": {
     "elapsed": 304,
     "status": "ok",
     "timestamp": 1639510374353,
     "user": {
      "displayName": "Sandeep reddy",
      "photoUrl": "https://lh3.googleusercontent.com/a/default-user=s64",
      "userId": "16285756479097002944"
     },
     "user_tz": 300
    },
    "id": "F5Jc4zA9bk8P",
    "outputId": "cb3f6d89-36ca-4917-8361-0962f66faecf"
   },
   "outputs": [
    {
     "data": {
      "text/html": [
       "<table class=\"simpletable\">\n",
       "<caption>OLS Regression Results</caption>\n",
       "<tr>\n",
       "  <th>Dep. Variable:</th>            <td>y</td>        <th>  R-squared:         </th> <td>   0.523</td> \n",
       "</tr>\n",
       "<tr>\n",
       "  <th>Model:</th>                   <td>OLS</td>       <th>  Adj. R-squared:    </th> <td>   0.472</td> \n",
       "</tr>\n",
       "<tr>\n",
       "  <th>Method:</th>             <td>Least Squares</td>  <th>  F-statistic:       </th> <td>   10.20</td> \n",
       "</tr>\n",
       "<tr>\n",
       "  <th>Date:</th>             <td>Tue, 14 Dec 2021</td> <th>  Prob (F-statistic):</th> <td>1.02e-60</td> \n",
       "</tr>\n",
       "<tr>\n",
       "  <th>Time:</th>                 <td>20:27:36</td>     <th>  Log-Likelihood:    </th> <td> -8254.2</td> \n",
       "</tr>\n",
       "<tr>\n",
       "  <th>No. Observations:</th>      <td>   650</td>      <th>  AIC:               </th> <td>1.664e+04</td>\n",
       "</tr>\n",
       "<tr>\n",
       "  <th>Df Residuals:</th>          <td>   586</td>      <th>  BIC:               </th> <td>1.692e+04</td>\n",
       "</tr>\n",
       "<tr>\n",
       "  <th>Df Model:</th>              <td>    63</td>      <th>                     </th>     <td> </td>    \n",
       "</tr>\n",
       "<tr>\n",
       "  <th>Covariance Type:</th>      <td>nonrobust</td>    <th>                     </th>     <td> </td>    \n",
       "</tr>\n",
       "</table>\n",
       "<table class=\"simpletable\">\n",
       "<tr>\n",
       "                     <td></td>                       <th>coef</th>     <th>std err</th>      <th>t</th>      <th>P>|t|</th>  <th>[0.025</th>    <th>0.975]</th>  \n",
       "</tr>\n",
       "<tr>\n",
       "  <th>const</th>                                  <td>-1.664e+07</td> <td> 7.25e+06</td> <td>   -2.295</td> <td> 0.022</td> <td>-3.09e+07</td> <td> -2.4e+06</td>\n",
       "</tr>\n",
       "<tr>\n",
       "  <th>yearsofexperience</th>                      <td>   1.2e+04</td> <td>  875.955</td> <td>   13.699</td> <td> 0.000</td> <td> 1.03e+04</td> <td> 1.37e+04</td>\n",
       "</tr>\n",
       "<tr>\n",
       "  <th>year</th>                                   <td> 9065.2272</td> <td> 3918.213</td> <td>    2.314</td> <td> 0.021</td> <td> 1369.777</td> <td> 1.68e+04</td>\n",
       "</tr>\n",
       "<tr>\n",
       "  <th>company_AMAZON</th>                         <td>-1.262e+06</td> <td> 5.17e+05</td> <td>   -2.442</td> <td> 0.015</td> <td>-2.28e+06</td> <td>-2.47e+05</td>\n",
       "</tr>\n",
       "<tr>\n",
       "  <th>company_AMazon</th>                         <td>-1.267e+06</td> <td> 5.38e+05</td> <td>   -2.358</td> <td> 0.019</td> <td>-2.32e+06</td> <td>-2.12e+05</td>\n",
       "</tr>\n",
       "<tr>\n",
       "  <th>company_AWS</th>                            <td>-1.191e+06</td> <td> 5.23e+05</td> <td>   -2.276</td> <td> 0.023</td> <td>-2.22e+06</td> <td>-1.63e+05</td>\n",
       "</tr>\n",
       "<tr>\n",
       "  <th>company_Amazon</th>                         <td>  -1.2e+06</td> <td> 5.18e+05</td> <td>   -2.319</td> <td> 0.021</td> <td>-2.22e+06</td> <td>-1.84e+05</td>\n",
       "</tr>\n",
       "<tr>\n",
       "  <th>company_Amazon Web Services</th>            <td>-1.112e+06</td> <td>  5.2e+05</td> <td>   -2.140</td> <td> 0.033</td> <td>-2.13e+06</td> <td>-9.16e+04</td>\n",
       "</tr>\n",
       "<tr>\n",
       "  <th>company_Amazon.com</th>                     <td> -1.34e+06</td> <td> 5.27e+05</td> <td>   -2.540</td> <td> 0.011</td> <td>-2.38e+06</td> <td>-3.04e+05</td>\n",
       "</tr>\n",
       "<tr>\n",
       "  <th>company_Apple</th>                          <td>-1.188e+06</td> <td> 5.18e+05</td> <td>   -2.291</td> <td> 0.022</td> <td>-2.21e+06</td> <td> -1.7e+05</td>\n",
       "</tr>\n",
       "<tr>\n",
       "  <th>company_Apple Inc.</th>                     <td>-1.154e+06</td> <td> 5.25e+05</td> <td>   -2.198</td> <td> 0.028</td> <td>-2.18e+06</td> <td>-1.23e+05</td>\n",
       "</tr>\n",
       "<tr>\n",
       "  <th>company_Facebook</th>                       <td>-1.185e+06</td> <td> 5.19e+05</td> <td>   -2.285</td> <td> 0.023</td> <td> -2.2e+06</td> <td>-1.66e+05</td>\n",
       "</tr>\n",
       "<tr>\n",
       "  <th>company_Google</th>                         <td>-1.185e+06</td> <td> 5.18e+05</td> <td>   -2.289</td> <td> 0.022</td> <td> -2.2e+06</td> <td>-1.68e+05</td>\n",
       "</tr>\n",
       "<tr>\n",
       "  <th>company_Netflix</th>                        <td>-9.691e+05</td> <td> 5.17e+05</td> <td>   -1.874</td> <td> 0.061</td> <td>-1.98e+06</td> <td> 4.63e+04</td>\n",
       "</tr>\n",
       "<tr>\n",
       "  <th>company_amazon</th>                         <td>-1.196e+06</td> <td>  5.2e+05</td> <td>   -2.300</td> <td> 0.022</td> <td>-2.22e+06</td> <td>-1.75e+05</td>\n",
       "</tr>\n",
       "<tr>\n",
       "  <th>company_facebook</th>                       <td>-1.184e+06</td> <td> 5.29e+05</td> <td>   -2.239</td> <td> 0.026</td> <td>-2.22e+06</td> <td>-1.45e+05</td>\n",
       "</tr>\n",
       "<tr>\n",
       "  <th>company_google</th>                         <td>-1.206e+06</td> <td>  5.2e+05</td> <td>   -2.319</td> <td> 0.021</td> <td>-2.23e+06</td> <td>-1.85e+05</td>\n",
       "</tr>\n",
       "<tr>\n",
       "  <th>location_Antioch, TN</th>                   <td>-3.579e+05</td> <td> 1.69e+05</td> <td>   -2.116</td> <td> 0.035</td> <td> -6.9e+05</td> <td>-2.58e+04</td>\n",
       "</tr>\n",
       "<tr>\n",
       "  <th>location_Arlington, VA</th>                 <td>-3.944e+05</td> <td> 1.62e+05</td> <td>   -2.431</td> <td> 0.015</td> <td>-7.13e+05</td> <td>-7.57e+04</td>\n",
       "</tr>\n",
       "<tr>\n",
       "  <th>location_Atlanta, GA</th>                   <td>-3.459e+05</td> <td> 1.55e+05</td> <td>   -2.238</td> <td> 0.026</td> <td>-6.49e+05</td> <td>-4.24e+04</td>\n",
       "</tr>\n",
       "<tr>\n",
       "  <th>location_Austin, TX</th>                    <td>-3.534e+05</td> <td> 1.52e+05</td> <td>   -2.326</td> <td> 0.020</td> <td>-6.52e+05</td> <td> -5.5e+04</td>\n",
       "</tr>\n",
       "<tr>\n",
       "  <th>location_Bangalore, KA, India</th>          <td>-4.609e+05</td> <td> 1.54e+05</td> <td>   -2.988</td> <td> 0.003</td> <td>-7.64e+05</td> <td>-1.58e+05</td>\n",
       "</tr>\n",
       "<tr>\n",
       "  <th>location_Bengaluru, KA, India</th>          <td>-4.509e+05</td> <td> 1.72e+05</td> <td>   -2.617</td> <td> 0.009</td> <td>-7.89e+05</td> <td>-1.13e+05</td>\n",
       "</tr>\n",
       "<tr>\n",
       "  <th>location_Berlin, BE, Germany</th>           <td>-4.137e+05</td> <td> 1.61e+05</td> <td>   -2.575</td> <td> 0.010</td> <td>-7.29e+05</td> <td>-9.82e+04</td>\n",
       "</tr>\n",
       "<tr>\n",
       "  <th>location_Boston, MA</th>                    <td>-3.095e+05</td> <td> 1.54e+05</td> <td>   -2.010</td> <td> 0.045</td> <td>-6.12e+05</td> <td>-7075.459</td>\n",
       "</tr>\n",
       "<tr>\n",
       "  <th>location_Brampton, ON, Canada</th>          <td>-3.878e+05</td> <td> 1.66e+05</td> <td>   -2.340</td> <td> 0.020</td> <td>-7.13e+05</td> <td>-6.23e+04</td>\n",
       "</tr>\n",
       "<tr>\n",
       "  <th>location_Cambridge, EN, United Kingdom</th> <td>-4.029e+05</td> <td> 1.69e+05</td> <td>   -2.383</td> <td> 0.017</td> <td>-7.35e+05</td> <td>-7.09e+04</td>\n",
       "</tr>\n",
       "<tr>\n",
       "  <th>location_Cambridge, MA</th>                 <td>-4.006e+05</td> <td> 1.57e+05</td> <td>   -2.543</td> <td> 0.011</td> <td> -7.1e+05</td> <td>-9.12e+04</td>\n",
       "</tr>\n",
       "<tr>\n",
       "  <th>location_Charlotte, NC</th>                 <td>-2.739e+05</td> <td> 1.69e+05</td> <td>   -1.620</td> <td> 0.106</td> <td>-6.06e+05</td> <td> 5.81e+04</td>\n",
       "</tr>\n",
       "<tr>\n",
       "  <th>location_Chicago, IL</th>                   <td>-3.791e+05</td> <td> 1.72e+05</td> <td>   -2.209</td> <td> 0.028</td> <td>-7.16e+05</td> <td> -4.2e+04</td>\n",
       "</tr>\n",
       "<tr>\n",
       "  <th>location_Cupertino, CA</th>                 <td>-2.784e+05</td> <td> 1.49e+05</td> <td>   -1.874</td> <td> 0.061</td> <td> -5.7e+05</td> <td> 1.33e+04</td>\n",
       "</tr>\n",
       "<tr>\n",
       "  <th>location_Dallas, TX</th>                    <td>-3.619e+05</td> <td> 1.72e+05</td> <td>   -2.101</td> <td> 0.036</td> <td>   -7e+05</td> <td>-2.36e+04</td>\n",
       "</tr>\n",
       "<tr>\n",
       "  <th>location_Edinburgh, SC, United Kingdom</th> <td>-3.879e+05</td> <td> 1.69e+05</td> <td>   -2.295</td> <td> 0.022</td> <td> -7.2e+05</td> <td> -5.6e+04</td>\n",
       "</tr>\n",
       "<tr>\n",
       "  <th>location_Fremont, CA</th>                   <td>-3.545e+05</td> <td>  1.6e+05</td> <td>   -2.222</td> <td> 0.027</td> <td>-6.68e+05</td> <td>-4.11e+04</td>\n",
       "</tr>\n",
       "<tr>\n",
       "  <th>location_Hawaiian Gardens, CA</th>          <td>-3.899e+05</td> <td> 1.73e+05</td> <td>   -2.258</td> <td> 0.024</td> <td>-7.29e+05</td> <td>-5.07e+04</td>\n",
       "</tr>\n",
       "<tr>\n",
       "  <th>location_Hyderabad, TS, India</th>          <td>-4.789e+05</td> <td> 1.61e+05</td> <td>   -2.983</td> <td> 0.003</td> <td>-7.94e+05</td> <td>-1.64e+05</td>\n",
       "</tr>\n",
       "<tr>\n",
       "  <th>location_Irvine, CA</th>                    <td>-3.793e+05</td> <td> 1.55e+05</td> <td>   -2.449</td> <td> 0.015</td> <td>-6.83e+05</td> <td>-7.52e+04</td>\n",
       "</tr>\n",
       "<tr>\n",
       "  <th>location_Kirkland, WA</th>                  <td>-9.674e+04</td> <td>  1.5e+05</td> <td>   -0.644</td> <td> 0.520</td> <td>-3.92e+05</td> <td> 1.98e+05</td>\n",
       "</tr>\n",
       "<tr>\n",
       "  <th>location_London, EN, United Kingdom</th>    <td>-3.615e+05</td> <td> 1.51e+05</td> <td>   -2.396</td> <td> 0.017</td> <td>-6.58e+05</td> <td>-6.52e+04</td>\n",
       "</tr>\n",
       "<tr>\n",
       "  <th>location_Los Angeles, CA</th>               <td>-2.628e+05</td> <td> 1.52e+05</td> <td>   -1.725</td> <td> 0.085</td> <td>-5.62e+05</td> <td> 3.64e+04</td>\n",
       "</tr>\n",
       "<tr>\n",
       "  <th>location_Los Gatos, CA</th>                 <td>-2.997e+05</td> <td> 1.54e+05</td> <td>   -1.944</td> <td> 0.052</td> <td>-6.03e+05</td> <td> 3143.364</td>\n",
       "</tr>\n",
       "<tr>\n",
       "  <th>location_Luxembourg, LU, Luxembourg</th>    <td>-4.114e+05</td> <td> 1.56e+05</td> <td>   -2.632</td> <td> 0.009</td> <td>-7.18e+05</td> <td>-1.04e+05</td>\n",
       "</tr>\n",
       "<tr>\n",
       "  <th>location_Menlo Park, CA</th>                <td>-2.835e+05</td> <td> 1.47e+05</td> <td>   -1.927</td> <td> 0.054</td> <td>-5.72e+05</td> <td> 5449.048</td>\n",
       "</tr>\n",
       "<tr>\n",
       "  <th>location_Mountain View, CA</th>             <td> -2.77e+05</td> <td> 1.48e+05</td> <td>   -1.868</td> <td> 0.062</td> <td>-5.68e+05</td> <td> 1.43e+04</td>\n",
       "</tr>\n",
       "<tr>\n",
       "  <th>location_Munich, BY, Germany</th>           <td>-4.302e+05</td> <td> 1.58e+05</td> <td>   -2.730</td> <td> 0.007</td> <td> -7.4e+05</td> <td>-1.21e+05</td>\n",
       "</tr>\n",
       "<tr>\n",
       "  <th>location_New York, NY</th>                  <td>-2.754e+05</td> <td> 1.49e+05</td> <td>   -1.851</td> <td> 0.065</td> <td>-5.68e+05</td> <td> 1.69e+04</td>\n",
       "</tr>\n",
       "<tr>\n",
       "  <th>location_Palo Alto, CA</th>                 <td>-2.827e+05</td> <td> 1.47e+05</td> <td>   -1.925</td> <td> 0.055</td> <td>-5.71e+05</td> <td> 5710.009</td>\n",
       "</tr>\n",
       "<tr>\n",
       "  <th>location_Pittsburgh, PA</th>                <td>-3.135e+05</td> <td> 1.51e+05</td> <td>   -2.069</td> <td> 0.039</td> <td>-6.11e+05</td> <td> -1.6e+04</td>\n",
       "</tr>\n",
       "<tr>\n",
       "  <th>location_Redmond, WA</th>                   <td> 7.674e+04</td> <td>  1.7e+05</td> <td>    0.453</td> <td> 0.651</td> <td>-2.56e+05</td> <td>  4.1e+05</td>\n",
       "</tr>\n",
       "<tr>\n",
       "  <th>location_Redwood City, CA</th>              <td>-2.555e+05</td> <td> 1.57e+05</td> <td>   -1.630</td> <td> 0.104</td> <td>-5.63e+05</td> <td> 5.23e+04</td>\n",
       "</tr>\n",
       "<tr>\n",
       "  <th>location_Reston, VA</th>                    <td>-3.399e+05</td> <td> 1.73e+05</td> <td>   -1.970</td> <td> 0.049</td> <td>-6.79e+05</td> <td>-1007.819</td>\n",
       "</tr>\n",
       "<tr>\n",
       "  <th>location_San Diego, CA</th>                 <td>-2.819e+05</td> <td> 1.69e+05</td> <td>   -1.669</td> <td> 0.096</td> <td>-6.14e+05</td> <td> 4.99e+04</td>\n",
       "</tr>\n",
       "<tr>\n",
       "  <th>location_San Francisco, CA</th>             <td>-2.792e+05</td> <td> 1.48e+05</td> <td>   -1.885</td> <td> 0.060</td> <td> -5.7e+05</td> <td> 1.16e+04</td>\n",
       "</tr>\n",
       "<tr>\n",
       "  <th>location_San Jose, CA</th>                  <td>-3.985e+05</td> <td> 1.56e+05</td> <td>   -2.553</td> <td> 0.011</td> <td>-7.05e+05</td> <td> -9.2e+04</td>\n",
       "</tr>\n",
       "<tr>\n",
       "  <th>location_Santa Monica, CA</th>              <td>-2.898e+05</td> <td> 1.57e+05</td> <td>   -1.846</td> <td> 0.065</td> <td>-5.98e+05</td> <td> 1.86e+04</td>\n",
       "</tr>\n",
       "<tr>\n",
       "  <th>location_Seattle, WA</th>                   <td>-2.986e+05</td> <td> 1.48e+05</td> <td>   -2.022</td> <td> 0.044</td> <td>-5.89e+05</td> <td>-8493.077</td>\n",
       "</tr>\n",
       "<tr>\n",
       "  <th>location_Shanghai, SH, China</th>           <td>-5.143e+05</td> <td>  1.7e+05</td> <td>   -3.033</td> <td> 0.003</td> <td>-8.47e+05</td> <td>-1.81e+05</td>\n",
       "</tr>\n",
       "<tr>\n",
       "  <th>location_Singapore, SG, Singapore</th>      <td>-3.643e+05</td> <td> 1.53e+05</td> <td>   -2.388</td> <td> 0.017</td> <td>-6.64e+05</td> <td>-6.46e+04</td>\n",
       "</tr>\n",
       "<tr>\n",
       "  <th>location_Sunnyvale, CA</th>                 <td>-2.715e+05</td> <td> 1.47e+05</td> <td>   -1.847</td> <td> 0.065</td> <td> -5.6e+05</td> <td> 1.71e+04</td>\n",
       "</tr>\n",
       "<tr>\n",
       "  <th>location_Taipei, TP, Taiwan</th>            <td>-4.689e+05</td> <td> 1.72e+05</td> <td>   -2.723</td> <td> 0.007</td> <td>-8.07e+05</td> <td>-1.31e+05</td>\n",
       "</tr>\n",
       "<tr>\n",
       "  <th>location_Tel Aviv, TA, Israel</th>          <td>-3.761e+05</td> <td> 1.62e+05</td> <td>   -2.329</td> <td> 0.020</td> <td>-6.93e+05</td> <td>-5.89e+04</td>\n",
       "</tr>\n",
       "<tr>\n",
       "  <th>location_Toronto, ON, Canada</th>           <td>-3.812e+05</td> <td> 1.56e+05</td> <td>   -2.438</td> <td> 0.015</td> <td>-6.88e+05</td> <td>-7.41e+04</td>\n",
       "</tr>\n",
       "<tr>\n",
       "  <th>location_Tulsa, OK</th>                     <td>-3.131e+05</td> <td> 1.72e+05</td> <td>   -1.825</td> <td> 0.069</td> <td> -6.5e+05</td> <td> 2.39e+04</td>\n",
       "</tr>\n",
       "<tr>\n",
       "  <th>location_Vancouver, BC, Canada</th>         <td>-3.657e+05</td> <td> 1.56e+05</td> <td>   -2.342</td> <td> 0.020</td> <td>-6.72e+05</td> <td> -5.9e+04</td>\n",
       "</tr>\n",
       "<tr>\n",
       "  <th>location_Washington, DC</th>                <td>-3.879e+05</td> <td> 1.65e+05</td> <td>   -2.357</td> <td> 0.019</td> <td>-7.11e+05</td> <td>-6.47e+04</td>\n",
       "</tr>\n",
       "<tr>\n",
       "  <th>location_Zurich, ZH, Switzerland</th>       <td>-2.738e+05</td> <td> 1.69e+05</td> <td>   -1.621</td> <td> 0.106</td> <td>-6.06e+05</td> <td>  5.8e+04</td>\n",
       "</tr>\n",
       "</table>\n",
       "<table class=\"simpletable\">\n",
       "<tr>\n",
       "  <th>Omnibus:</th>       <td>242.588</td> <th>  Durbin-Watson:     </th> <td>   1.917</td> \n",
       "</tr>\n",
       "<tr>\n",
       "  <th>Prob(Omnibus):</th> <td> 0.000</td>  <th>  Jarque-Bera (JB):  </th> <td>1167.890</td> \n",
       "</tr>\n",
       "<tr>\n",
       "  <th>Skew:</th>          <td> 1.627</td>  <th>  Prob(JB):          </th> <td>2.49e-254</td>\n",
       "</tr>\n",
       "<tr>\n",
       "  <th>Kurtosis:</th>      <td> 8.704</td>  <th>  Cond. No.          </th> <td>1.50e+19</td> \n",
       "</tr>\n",
       "</table><br/><br/>Notes:<br/>[1] Standard Errors assume that the covariance matrix of the errors is correctly specified.<br/>[2] The smallest eigenvalue is 1.18e-29. This might indicate that there are<br/>strong multicollinearity problems or that the design matrix is singular."
      ],
      "text/plain": [
       "<class 'statsmodels.iolib.summary.Summary'>\n",
       "\"\"\"\n",
       "                            OLS Regression Results                            \n",
       "==============================================================================\n",
       "Dep. Variable:                      y   R-squared:                       0.523\n",
       "Model:                            OLS   Adj. R-squared:                  0.472\n",
       "Method:                 Least Squares   F-statistic:                     10.20\n",
       "Date:                Tue, 14 Dec 2021   Prob (F-statistic):           1.02e-60\n",
       "Time:                        20:27:36   Log-Likelihood:                -8254.2\n",
       "No. Observations:                 650   AIC:                         1.664e+04\n",
       "Df Residuals:                     586   BIC:                         1.692e+04\n",
       "Df Model:                          63                                         \n",
       "Covariance Type:            nonrobust                                         \n",
       "==========================================================================================================\n",
       "                                             coef    std err          t      P>|t|      [0.025      0.975]\n",
       "----------------------------------------------------------------------------------------------------------\n",
       "const                                  -1.664e+07   7.25e+06     -2.295      0.022   -3.09e+07    -2.4e+06\n",
       "yearsofexperience                         1.2e+04    875.955     13.699      0.000    1.03e+04    1.37e+04\n",
       "year                                    9065.2272   3918.213      2.314      0.021    1369.777    1.68e+04\n",
       "company_AMAZON                         -1.262e+06   5.17e+05     -2.442      0.015   -2.28e+06   -2.47e+05\n",
       "company_AMazon                         -1.267e+06   5.38e+05     -2.358      0.019   -2.32e+06   -2.12e+05\n",
       "company_AWS                            -1.191e+06   5.23e+05     -2.276      0.023   -2.22e+06   -1.63e+05\n",
       "company_Amazon                           -1.2e+06   5.18e+05     -2.319      0.021   -2.22e+06   -1.84e+05\n",
       "company_Amazon Web Services            -1.112e+06    5.2e+05     -2.140      0.033   -2.13e+06   -9.16e+04\n",
       "company_Amazon.com                      -1.34e+06   5.27e+05     -2.540      0.011   -2.38e+06   -3.04e+05\n",
       "company_Apple                          -1.188e+06   5.18e+05     -2.291      0.022   -2.21e+06    -1.7e+05\n",
       "company_Apple Inc.                     -1.154e+06   5.25e+05     -2.198      0.028   -2.18e+06   -1.23e+05\n",
       "company_Facebook                       -1.185e+06   5.19e+05     -2.285      0.023    -2.2e+06   -1.66e+05\n",
       "company_Google                         -1.185e+06   5.18e+05     -2.289      0.022    -2.2e+06   -1.68e+05\n",
       "company_Netflix                        -9.691e+05   5.17e+05     -1.874      0.061   -1.98e+06    4.63e+04\n",
       "company_amazon                         -1.196e+06    5.2e+05     -2.300      0.022   -2.22e+06   -1.75e+05\n",
       "company_facebook                       -1.184e+06   5.29e+05     -2.239      0.026   -2.22e+06   -1.45e+05\n",
       "company_google                         -1.206e+06    5.2e+05     -2.319      0.021   -2.23e+06   -1.85e+05\n",
       "location_Antioch, TN                   -3.579e+05   1.69e+05     -2.116      0.035    -6.9e+05   -2.58e+04\n",
       "location_Arlington, VA                 -3.944e+05   1.62e+05     -2.431      0.015   -7.13e+05   -7.57e+04\n",
       "location_Atlanta, GA                   -3.459e+05   1.55e+05     -2.238      0.026   -6.49e+05   -4.24e+04\n",
       "location_Austin, TX                    -3.534e+05   1.52e+05     -2.326      0.020   -6.52e+05    -5.5e+04\n",
       "location_Bangalore, KA, India          -4.609e+05   1.54e+05     -2.988      0.003   -7.64e+05   -1.58e+05\n",
       "location_Bengaluru, KA, India          -4.509e+05   1.72e+05     -2.617      0.009   -7.89e+05   -1.13e+05\n",
       "location_Berlin, BE, Germany           -4.137e+05   1.61e+05     -2.575      0.010   -7.29e+05   -9.82e+04\n",
       "location_Boston, MA                    -3.095e+05   1.54e+05     -2.010      0.045   -6.12e+05   -7075.459\n",
       "location_Brampton, ON, Canada          -3.878e+05   1.66e+05     -2.340      0.020   -7.13e+05   -6.23e+04\n",
       "location_Cambridge, EN, United Kingdom -4.029e+05   1.69e+05     -2.383      0.017   -7.35e+05   -7.09e+04\n",
       "location_Cambridge, MA                 -4.006e+05   1.57e+05     -2.543      0.011    -7.1e+05   -9.12e+04\n",
       "location_Charlotte, NC                 -2.739e+05   1.69e+05     -1.620      0.106   -6.06e+05    5.81e+04\n",
       "location_Chicago, IL                   -3.791e+05   1.72e+05     -2.209      0.028   -7.16e+05    -4.2e+04\n",
       "location_Cupertino, CA                 -2.784e+05   1.49e+05     -1.874      0.061    -5.7e+05    1.33e+04\n",
       "location_Dallas, TX                    -3.619e+05   1.72e+05     -2.101      0.036      -7e+05   -2.36e+04\n",
       "location_Edinburgh, SC, United Kingdom -3.879e+05   1.69e+05     -2.295      0.022    -7.2e+05    -5.6e+04\n",
       "location_Fremont, CA                   -3.545e+05    1.6e+05     -2.222      0.027   -6.68e+05   -4.11e+04\n",
       "location_Hawaiian Gardens, CA          -3.899e+05   1.73e+05     -2.258      0.024   -7.29e+05   -5.07e+04\n",
       "location_Hyderabad, TS, India          -4.789e+05   1.61e+05     -2.983      0.003   -7.94e+05   -1.64e+05\n",
       "location_Irvine, CA                    -3.793e+05   1.55e+05     -2.449      0.015   -6.83e+05   -7.52e+04\n",
       "location_Kirkland, WA                  -9.674e+04    1.5e+05     -0.644      0.520   -3.92e+05    1.98e+05\n",
       "location_London, EN, United Kingdom    -3.615e+05   1.51e+05     -2.396      0.017   -6.58e+05   -6.52e+04\n",
       "location_Los Angeles, CA               -2.628e+05   1.52e+05     -1.725      0.085   -5.62e+05    3.64e+04\n",
       "location_Los Gatos, CA                 -2.997e+05   1.54e+05     -1.944      0.052   -6.03e+05    3143.364\n",
       "location_Luxembourg, LU, Luxembourg    -4.114e+05   1.56e+05     -2.632      0.009   -7.18e+05   -1.04e+05\n",
       "location_Menlo Park, CA                -2.835e+05   1.47e+05     -1.927      0.054   -5.72e+05    5449.048\n",
       "location_Mountain View, CA              -2.77e+05   1.48e+05     -1.868      0.062   -5.68e+05    1.43e+04\n",
       "location_Munich, BY, Germany           -4.302e+05   1.58e+05     -2.730      0.007    -7.4e+05   -1.21e+05\n",
       "location_New York, NY                  -2.754e+05   1.49e+05     -1.851      0.065   -5.68e+05    1.69e+04\n",
       "location_Palo Alto, CA                 -2.827e+05   1.47e+05     -1.925      0.055   -5.71e+05    5710.009\n",
       "location_Pittsburgh, PA                -3.135e+05   1.51e+05     -2.069      0.039   -6.11e+05    -1.6e+04\n",
       "location_Redmond, WA                    7.674e+04    1.7e+05      0.453      0.651   -2.56e+05     4.1e+05\n",
       "location_Redwood City, CA              -2.555e+05   1.57e+05     -1.630      0.104   -5.63e+05    5.23e+04\n",
       "location_Reston, VA                    -3.399e+05   1.73e+05     -1.970      0.049   -6.79e+05   -1007.819\n",
       "location_San Diego, CA                 -2.819e+05   1.69e+05     -1.669      0.096   -6.14e+05    4.99e+04\n",
       "location_San Francisco, CA             -2.792e+05   1.48e+05     -1.885      0.060    -5.7e+05    1.16e+04\n",
       "location_San Jose, CA                  -3.985e+05   1.56e+05     -2.553      0.011   -7.05e+05    -9.2e+04\n",
       "location_Santa Monica, CA              -2.898e+05   1.57e+05     -1.846      0.065   -5.98e+05    1.86e+04\n",
       "location_Seattle, WA                   -2.986e+05   1.48e+05     -2.022      0.044   -5.89e+05   -8493.077\n",
       "location_Shanghai, SH, China           -5.143e+05    1.7e+05     -3.033      0.003   -8.47e+05   -1.81e+05\n",
       "location_Singapore, SG, Singapore      -3.643e+05   1.53e+05     -2.388      0.017   -6.64e+05   -6.46e+04\n",
       "location_Sunnyvale, CA                 -2.715e+05   1.47e+05     -1.847      0.065    -5.6e+05    1.71e+04\n",
       "location_Taipei, TP, Taiwan            -4.689e+05   1.72e+05     -2.723      0.007   -8.07e+05   -1.31e+05\n",
       "location_Tel Aviv, TA, Israel          -3.761e+05   1.62e+05     -2.329      0.020   -6.93e+05   -5.89e+04\n",
       "location_Toronto, ON, Canada           -3.812e+05   1.56e+05     -2.438      0.015   -6.88e+05   -7.41e+04\n",
       "location_Tulsa, OK                     -3.131e+05   1.72e+05     -1.825      0.069    -6.5e+05    2.39e+04\n",
       "location_Vancouver, BC, Canada         -3.657e+05   1.56e+05     -2.342      0.020   -6.72e+05    -5.9e+04\n",
       "location_Washington, DC                -3.879e+05   1.65e+05     -2.357      0.019   -7.11e+05   -6.47e+04\n",
       "location_Zurich, ZH, Switzerland       -2.738e+05   1.69e+05     -1.621      0.106   -6.06e+05     5.8e+04\n",
       "==============================================================================\n",
       "Omnibus:                      242.588   Durbin-Watson:                   1.917\n",
       "Prob(Omnibus):                  0.000   Jarque-Bera (JB):             1167.890\n",
       "Skew:                           1.627   Prob(JB):                    2.49e-254\n",
       "Kurtosis:                       8.704   Cond. No.                     1.50e+19\n",
       "==============================================================================\n",
       "\n",
       "Notes:\n",
       "[1] Standard Errors assume that the covariance matrix of the errors is correctly specified.\n",
       "[2] The smallest eigenvalue is 1.18e-29. This might indicate that there are\n",
       "strong multicollinearity problems or that the design matrix is singular.\n",
       "\"\"\""
      ]
     },
     "execution_count": 23,
     "metadata": {},
     "output_type": "execute_result"
    }
   ],
   "source": [
    "X_sm = X = sm.add_constant(X)\n",
    "model = sm.OLS(Y,X_sm)\n",
    "model.fit().summary()"
   ]
  },
  {
   "cell_type": "code",
   "execution_count": 24,
   "metadata": {
    "colab": {
     "base_uri": "https://localhost:8080/"
    },
    "executionInfo": {
     "elapsed": 309,
     "status": "ok",
     "timestamp": 1639510589227,
     "user": {
      "displayName": "Sandeep reddy",
      "photoUrl": "https://lh3.googleusercontent.com/a/default-user=s64",
      "userId": "16285756479097002944"
     },
     "user_tz": 300
    },
    "id": "mTTbJxTibk5n",
    "outputId": "f0bd1047-eb6c-4a2a-d438-f011cb7cee03"
   },
   "outputs": [
    {
     "data": {
      "text/plain": [
       "-1165423966011482.2"
      ]
     },
     "execution_count": 24,
     "metadata": {},
     "output_type": "execute_result"
    }
   ],
   "source": [
    "mlr = LinearRegression()\n",
    "mlr.fit(X_train, y_train)\n",
    "\n",
    "np.mean(cross_val_score(mlr,X_train,y_train, scoring = 'neg_mean_absolute_error', cv= 3))"
   ]
  },
  {
   "cell_type": "code",
   "execution_count": 25,
   "metadata": {
    "colab": {
     "base_uri": "https://localhost:8080/",
     "height": 372
    },
    "executionInfo": {
     "elapsed": 15335,
     "status": "ok",
     "timestamp": 1639513172996,
     "user": {
      "displayName": "Sandeep reddy",
      "photoUrl": "https://lh3.googleusercontent.com/a/default-user=s64",
      "userId": "16285756479097002944"
     },
     "user_tz": 300
    },
    "id": "ZhH_N97CmWG7",
    "outputId": "d547e431-3cf3-4582-c72e-73ee9cec3677"
   },
   "outputs": [
    {
     "data": {
      "text/plain": [
       "[<matplotlib.lines.Line2D at 0x7fa08197e5b0>]"
      ]
     },
     "execution_count": 25,
     "metadata": {},
     "output_type": "execute_result"
    },
    {
     "data": {
      "image/png": "[encoded data removed]",
      "text/plain": [
       "<Figure size 432x288 with 1 Axes>"
      ]
     },
     "metadata": {
      "needs_background": "light"
     },
     "output_type": "display_data"
    }
   ],
   "source": [
    "alpha = []\n",
    "error = []\n",
    "\n",
    "for i in range(10,100):\n",
    "    alpha.append(i)\n",
    "    lml = Lasso(alpha=(i))\n",
    "    error.append(np.mean(cross_val_score(lml,X_train,y_train, scoring = 'neg_mean_absolute_error', cv= 9)))\n",
    "    \n",
    "plt.plot(alpha,error)"
   ]
  },
  {
   "cell_type": "code",
   "execution_count": 26,
   "metadata": {
    "colab": {
     "base_uri": "https://localhost:8080/"
    },
    "executionInfo": {
     "elapsed": 304,
     "status": "ok",
     "timestamp": 1639513134312,
     "user": {
      "displayName": "Sandeep reddy",
      "photoUrl": "https://lh3.googleusercontent.com/a/default-user=s64",
      "userId": "16285756479097002944"
     },
     "user_tz": 300
    },
    "id": "rAuFIQBkmJ8M",
    "outputId": "fda180e3-a0b6-4b38-d675-af1413e96264"
   },
   "outputs": [
    {
     "data": {
      "text/plain": [
       "-64854.50110007814"
      ]
     },
     "execution_count": 26,
     "metadata": {},
     "output_type": "execute_result"
    }
   ],
   "source": [
    "# lasso regression \n",
    "lm_l = Lasso(alpha=100)\n",
    "lm_l.fit(X_train,y_train)\n",
    "np.mean(cross_val_score(lm_l,X_train,y_train, scoring = 'neg_mean_absolute_error', cv= 3))"
   ]
  },
  {
   "cell_type": "code",
   "execution_count": 27,
   "metadata": {
    "colab": {
     "base_uri": "https://localhost:8080/"
    },
    "executionInfo": {
     "elapsed": 1333,
     "status": "ok",
     "timestamp": 1639513216040,
     "user": {
      "displayName": "Sandeep reddy",
      "photoUrl": "https://lh3.googleusercontent.com/a/default-user=s64",
      "userId": "16285756479097002944"
     },
     "user_tz": 300
    },
    "id": "kb58LC5qbkyD",
    "outputId": "206e409a-7385-41d1-beb9-680c1617c4aa"
   },
   "outputs": [
    {
     "data": {
      "text/plain": [
       "-70501.4809607218"
      ]
     },
     "execution_count": 27,
     "metadata": {},
     "output_type": "execute_result"
    }
   ],
   "source": [
    "rf = RandomForestRegressor(n_jobs=-1)\n",
    "\n",
    "np.mean(cross_val_score(rf,X_train,y_train,scoring = 'neg_mean_absolute_error', cv= 3))"
   ]
  },
  {
   "cell_type": "code",
   "execution_count": 29,
   "metadata": {
    "colab": {
     "base_uri": "https://localhost:8080/"
    },
    "executionInfo": {
     "elapsed": 450863,
     "status": "ok",
     "timestamp": 1639513720672,
     "user": {
      "displayName": "Sandeep reddy",
      "photoUrl": "https://lh3.googleusercontent.com/a/default-user=s64",
      "userId": "16285756479097002944"
     },
     "user_tz": 300
    },
    "id": "9lfstVLcbks0",
    "outputId": "667ce294-a156-457b-fb2e-755e565b9102"
   },
   "outputs": [
    {
     "data": {
      "text/plain": [
       "GridSearchCV(cv=3, estimator=RandomForestRegressor(n_jobs=-1),\n",
       "             param_grid={'criterion': ('mse', 'mae'),\n",
       "                         'max_features': ('auto', 'sqrt', 'log2'),\n",
       "                         'n_estimators': range(10, 300, 10)},\n",
       "             scoring='neg_mean_absolute_error')"
      ]
     },
     "execution_count": 29,
     "metadata": {},
     "output_type": "execute_result"
    }
   ],
   "source": [
    "parameters = {'n_estimators':range(10,300,10), 'criterion':('mse','mae'), 'max_features':('auto','sqrt','log2')}\n",
    "\n",
    "gs_cv = GridSearchCV(rf,parameters,scoring='neg_mean_absolute_error',cv=3)\n",
    "gs_cv.fit(X_train,y_train)"
   ]
  },
  {
   "cell_type": "code",
   "execution_count": 30,
   "metadata": {
    "colab": {
     "base_uri": "https://localhost:8080/"
    },
    "executionInfo": {
     "elapsed": 141,
     "status": "ok",
     "timestamp": 1639513775963,
     "user": {
      "displayName": "Sandeep reddy",
      "photoUrl": "https://lh3.googleusercontent.com/a/default-user=s64",
      "userId": "16285756479097002944"
     },
     "user_tz": 300
    },
    "id": "wHsPfpA0du4m",
    "outputId": "24bf44ea-caef-4ed0-9799-5018f576ceee"
   },
   "outputs": [
    {
     "data": {
      "text/plain": [
       "-65250.2223920153"
      ]
     },
     "execution_count": 30,
     "metadata": {},
     "output_type": "execute_result"
    }
   ],
   "source": [
    "gs_cv.best_score_"
   ]
  },
  {
   "cell_type": "code",
   "execution_count": 31,
   "metadata": {
    "colab": {
     "base_uri": "https://localhost:8080/"
    },
    "executionInfo": {
     "elapsed": 136,
     "status": "ok",
     "timestamp": 1639513778307,
     "user": {
      "displayName": "Sandeep reddy",
      "photoUrl": "https://lh3.googleusercontent.com/a/default-user=s64",
      "userId": "16285756479097002944"
     },
     "user_tz": 300
    },
    "id": "w39bpmSKdu2W",
    "outputId": "111c816a-5dcd-4e56-d18f-fffb50fe24e9"
   },
   "outputs": [
    {
     "data": {
      "text/plain": [
       "RandomForestRegressor(criterion='mae', max_features='log2', n_estimators=30,\n",
       "                      n_jobs=-1)"
      ]
     },
     "execution_count": 31,
     "metadata": {},
     "output_type": "execute_result"
    }
   ],
   "source": [
    "gs_cv.best_estimator_"
   ]
  },
  {
   "cell_type": "code",
   "execution_count": 32,
   "metadata": {
    "executionInfo": {
     "elapsed": 308,
     "status": "ok",
     "timestamp": 1639513787521,
     "user": {
      "displayName": "Sandeep reddy",
      "photoUrl": "https://lh3.googleusercontent.com/a/default-user=s64",
      "userId": "16285756479097002944"
     },
     "user_tz": 300
    },
    "id": "7MxmLEbribfA"
   },
   "outputs": [],
   "source": [
    "tpred_lml = lm_l.predict(X_test)\n",
    "tpred_rf = gs_cv.best_estimator_.predict(X_test)"
   ]
  },
  {
   "cell_type": "code",
   "execution_count": 33,
   "metadata": {
    "colab": {
     "base_uri": "https://localhost:8080/"
    },
    "executionInfo": {
     "elapsed": 164,
     "status": "ok",
     "timestamp": 1639513789580,
     "user": {
      "displayName": "Sandeep reddy",
      "photoUrl": "https://lh3.googleusercontent.com/a/default-user=s64",
      "userId": "16285756479097002944"
     },
     "user_tz": 300
    },
    "id": "f42vakgbkaZQ",
    "outputId": "41a8ef29-801f-4697-9edc-da2a91aa011a"
   },
   "outputs": [
    {
     "data": {
      "text/plain": [
       "55824.721343539844"
      ]
     },
     "execution_count": 33,
     "metadata": {},
     "output_type": "execute_result"
    }
   ],
   "source": [
    "mean_absolute_error(y_test,tpred_lml)"
   ]
  },
  {
   "cell_type": "code",
   "execution_count": 34,
   "metadata": {
    "colab": {
     "base_uri": "https://localhost:8080/"
    },
    "executionInfo": {
     "elapsed": 171,
     "status": "ok",
     "timestamp": 1639529227130,
     "user": {
      "displayName": "Sandeep reddy",
      "photoUrl": "https://lh3.googleusercontent.com/a/default-user=s64",
      "userId": "16285756479097002944"
     },
     "user_tz": 300
    },
    "id": "bLkAoFYvibcj",
    "outputId": "391553d0-07ed-4687-d35b-86b2ac9e18cf"
   },
   "outputs": [
    {
     "data": {
      "text/plain": [
       "56354.61538461538"
      ]
     },
     "execution_count": 34,
     "metadata": {},
     "output_type": "execute_result"
    }
   ],
   "source": [
    "mean_absolute_error(y_test,tpred_rf)"
   ]
  },
  {
   "cell_type": "code",
   "execution_count": 45,
   "metadata": {
    "id": "SLgo-26dibQa"
   },
   "outputs": [],
   "source": [
    "import pickle\n",
    "pickl = {'model': gs_cv.best_estimator_}\n",
    "pickle.dump( pickl, open( 'model_file' + \".p\", \"wb\" ) )\n",
    "\n",
    "file_name = \"model_file.p\"\n",
    "with open(file_name, 'rb') as pickled:\n",
    "    data = pickle.load(pickled)\n",
    "    model = data['model']\n"
   ]
  },
  {
   "cell_type": "code",
   "execution_count": 46,
   "metadata": {
    "id": "rgjP1LLPibOI"
   },
   "outputs": [
    {
     "data": {
      "text/plain": [
       "410216.6666666667"
      ]
     },
     "execution_count": 46,
     "metadata": {},
     "output_type": "execute_result"
    }
   ],
   "source": [
    "model.predict(np.array(list(X_test.iloc[1,:])).reshape(1,-1))[0]"
   ]
  },
  {
   "cell_type": "code",
   "execution_count": 47,
   "metadata": {
    "id": "Q-yR0HLmibK-"
   },
   "outputs": [
    {
     "data": {
      "text/plain": [
       "[0.0,\n",
       " 2020.0,\n",
       " 0.0,\n",
       " 0.0,\n",
       " 0.0,\n",
       " 0.0,\n",
       " 0.0,\n",
       " 0.0,\n",
       " 0.0,\n",
       " 0.0,\n",
       " 0.0,\n",
       " 0.0,\n",
       " 1.0,\n",
       " 0.0,\n",
       " 0.0,\n",
       " 0.0,\n",
       " 0.0,\n",
       " 0.0,\n",
       " 0.0,\n",
       " 0.0,\n",
       " 0.0,\n",
       " 0.0,\n",
       " 0.0,\n",
       " 0.0,\n",
       " 0.0,\n",
       " 0.0,\n",
       " 0.0,\n",
       " 0.0,\n",
       " 0.0,\n",
       " 0.0,\n",
       " 0.0,\n",
       " 0.0,\n",
       " 0.0,\n",
       " 0.0,\n",
       " 0.0,\n",
       " 0.0,\n",
       " 0.0,\n",
       " 0.0,\n",
       " 0.0,\n",
       " 1.0,\n",
       " 0.0,\n",
       " 0.0,\n",
       " 0.0,\n",
       " 0.0,\n",
       " 0.0,\n",
       " 0.0,\n",
       " 0.0,\n",
       " 0.0,\n",
       " 0.0,\n",
       " 0.0,\n",
       " 0.0,\n",
       " 0.0,\n",
       " 0.0,\n",
       " 0.0,\n",
       " 0.0,\n",
       " 0.0,\n",
       " 0.0,\n",
       " 0.0,\n",
       " 0.0,\n",
       " 0.0,\n",
       " 0.0,\n",
       " 0.0,\n",
       " 0.0,\n",
       " 0.0,\n",
       " 0.0]"
      ]
     },
     "execution_count": 47,
     "metadata": {},
     "output_type": "execute_result"
    }
   ],
   "source": [
    "list(X_test.iloc[1,:])"
   ]
  },
  {
   "cell_type": "code",
   "execution_count": null,
   "metadata": {
    "id": "7jXTn64_ibIM"
   },
   "outputs": [],
   "source": []
  }
 ],
 "metadata": {
  "colab": {
   "authorship_tag": "ABX9TyOXOVttWt9gRs899ksn4N3v",
   "collapsed_sections": [],
   "name": "faang_mb.ipynb",
   "provenance": []
  },
  "kernelspec": {
   "display_name": "Python 3 (ipykernel)",
   "language": "python",
   "name": "python3"
  },
  "language_info": {
   "codemirror_mode": {
    "name": "ipython",
    "version": 3
   },
   "file_extension": ".py",
   "mimetype": "text/x-python",
   "name": "python",
   "nbconvert_exporter": "python",
   "pygments_lexer": "ipython3",
   "version": "3.9.7"
  }
 },
 "nbformat": 4,
 "nbformat_minor": 1
}
